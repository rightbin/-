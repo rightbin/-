{
  "nbformat": 4,
  "nbformat_minor": 0,
  "metadata": {
    "colab": {
      "name": "Untitled0.ipynb",
      "provenance": [],
      "authorship_tag": "ABX9TyOzhdtC3upnv6TqrFiI2BTH",
      "include_colab_link": true
    },
    "kernelspec": {
      "name": "python3",
      "display_name": "Python 3"
    }
  },
  "cells": [
    {
      "cell_type": "markdown",
      "metadata": {
        "id": "view-in-github",
        "colab_type": "text"
      },
      "source": [
        "<a href=\"https://colab.research.google.com/github/rightbin/Deep-learning/blob/main/Base_of_Streamlit.ipynb\" target=\"_parent\"><img src=\"https://colab.research.google.com/assets/colab-badge.svg\" alt=\"Open In Colab\"/></a>"
      ]
    },
    {
      "cell_type": "code",
      "metadata": {
        "id": "BMd7ZEkcaiK6"
      },
      "source": [
        "import streamlit as st\r\n",
        "import pandas as pd\r\n",
        "\r\n",
        "\r\n",
        "df = pd.read_csv('data/iris.csv')\r\n",
        "\r\n",
        "\r\n",
        "def main() :\r\n",
        "    if st.button('데이터보기') :\r\n",
        "        st.info('iris 데이터를 가져왔습니다.')\r\n",
        "        df = pd.read_csv('data/iris.csv')\r\n",
        "        st.dataframe(df)\r\n",
        "        \r\n",
        "    name= 'Jesse'\r\n",
        "\r\n",
        "    if st.button(\"이름확인\") :\r\n",
        "        st.write(name.upper())\r\n",
        "\r\n",
        "    if st.button('이름확인',key='btn2') :\r\n",
        "        st.write(name.lower())\r\n",
        "    status = st.radio('정렬을 선택하세요.',['오름차순','내림차순'])\r\n",
        "    if status == '오름차순' :\r\n",
        "        st.write('오름차순 눌렀어요.')\r\n",
        "        st.dataframe(df.sort_values(by='sepal_length'))\r\n",
        "    elif status == '내림차순':\r\n",
        "        st.write('내림차순 눌렀어요.')\r\n",
        "        st.dataframe(df.sort_values(by='sepal_length', ascending=False))\r\n",
        "\r\n",
        "    if st.checkbox(\"show / hide\") :\r\n",
        "        st.text(\"동의합니다\")\r\n",
        "\r\n",
        "    lang =['Python','Java', 'C', \"Go\"]\r\n",
        "    selected_lang = st.selectbox(\"언어를 선택하여 주세요\",lang)\r\n",
        "    st.write(\"당신이 선택한 언어는 {} 입니다.\".format(selected_lang))\r\n",
        "\r\n",
        "    lang_list = st.multiselect(\"언어를 선택하여 주세요\",lang)\r\n",
        "\r\n",
        "\r\n",
        "    age = st.slider(\"나이\",1,100)\r\n",
        "    st.write(\"나이는 {}살입니다.\".format(age))\r\n",
        "\r\n",
        "\r\n",
        "if __name__ == '__main__' :\r\n",
        "    main()\r\n"
      ],
      "execution_count": null,
      "outputs": []
    }
  ]
}