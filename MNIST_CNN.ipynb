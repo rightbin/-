{
  "nbformat": 4,
  "nbformat_minor": 0,
  "metadata": {
    "coursera": {
      "course_slug": "introduction-tensorflow",
      "graded_item_id": "ml06H",
      "launcher_item_id": "hQF8A"
    },
    "kernelspec": {
      "display_name": "Python 3",
      "language": "python",
      "name": "python3"
    },
    "language_info": {
      "codemirror_mode": {
        "name": "ipython",
        "version": 3
      },
      "file_extension": ".py",
      "mimetype": "text/x-python",
      "name": "python",
      "nbconvert_exporter": "python",
      "pygments_lexer": "ipython3",
      "version": "3.6.8"
    },
    "colab": {
      "name": "MNIST CNN.ipynb",
      "provenance": [],
      "collapsed_sections": [],
      "include_colab_link": true
    },
    "accelerator": "GPU"
  },
  "cells": [
    {
      "cell_type": "markdown",
      "metadata": {
        "id": "view-in-github",
        "colab_type": "text"
      },
      "source": [
        "<a href=\"https://colab.research.google.com/github/rightbin/Deep-learning/blob/main/MNIST_CNN.ipynb\" target=\"_parent\"><img src=\"https://colab.research.google.com/assets/colab-badge.svg\" alt=\"Open In Colab\"/></a>"
      ]
    },
    {
      "cell_type": "markdown",
      "metadata": {
        "id": "iQjHqsmTAVLU"
      },
      "source": [
        "손글씨 숫자 MNIST 를 가지고, 99.8% accuracy 보다 크게 나오도록,  convolutional layer 는 딱 1개만 사용하고,  MaxPooling 2D도 한 1개만 사용한다. \n",
        "\n",
        "그리고 epochs는 20으로 셋팅하고,  accuracy 가 위의 수치를 만족하면, \"Reached 99.8% accuracy so cancelling training!\"를 출력하고, 학습을 멈추도록 모델링과 컴파일을 하시오.\n",
        "\n"
      ]
    },
    {
      "cell_type": "code",
      "metadata": {
        "id": "OAfgtwVjST5l"
      },
      "source": [
        "import tensorflow as tf\n",
        "import numpy as np\n",
        "import datetime\n",
        "import tensorflow as tf\n",
        "from tensorflow.keras.datasets import fashion_mnist\n",
        "from keras.layers import Conv2D , MaxPooling2D\n",
        "\n",
        "\n",
        "import tensorflow.keras\n",
        "from keras.models import Sequential\n",
        "from keras.layers import Dense, Flatten, Dropout"
      ],
      "execution_count": 5,
      "outputs": []
    },
    {
      "cell_type": "code",
      "metadata": {
        "id": "cX2YwoSmST5m"
      },
      "source": [
        "def train_mnist_conv():\n",
        "    \n",
        "    class myCallback(tf.keras.callbacks.Callback) : \n",
        "      def on_epoch_end(self, epoch, logs={}) :\n",
        "        if(logs.get('accuracy') >0.998) : \n",
        "          print(\"\\nReached 98% accuracy so cancelling training!\")\n",
        "          self.model.stop_training = True\n",
        "    \n",
        "    mnist = tf.keras.datasets.mnist\n",
        "\n",
        "    (X_train, y_train),(X_test, y_test) = mnist.load_data()\n",
        "    # YOUR CODE SHOULD START HERE\n",
        "    X_train = X_train.reshape(60000,28,28,1)\n",
        "    X_test = X_test.reshape(10000,28,28,1)\n",
        "\n",
        "    # YOUR CODE SHOULD END HERE\n",
        "    model = tf.keras.models.Sequential([              \n",
        "              Conv2D( filters=64, kernel_size=(3,3) , activation='relu' ,input_shape =  (28,28,1) ),\n",
        "              MaxPooling2D( 2 , 2 ),\n",
        "              Flatten(),\n",
        "      Dense(units=128,activation=tf.nn.relu),\n",
        "      Dense(units=10 , activation=tf.nn.softmax)                  \n",
        "    ])\n",
        "    \n",
        "    model.compile(optimizer='adam',\n",
        "                  loss='sparse_categorical_crossentropy',\n",
        "                  metrics=['accuracy'])\n",
        "    \n",
        "    # model fitting\n",
        "    my_cb = myCallback()\n",
        "\n",
        "\n",
        "    history = model.fit(X_train,y_train,epochs= 20,callbacks=[my_cb])\n",
        "    # model fitting\n",
        "    return history.epoch, history.history['accuracy'][-1]\n"
      ],
      "execution_count": 6,
      "outputs": []
    },
    {
      "cell_type": "code",
      "metadata": {
        "id": "4Gd9JmJBST5o",
        "colab": {
          "base_uri": "https://localhost:8080/"
        },
        "outputId": "39a18179-c2b3-4e6f-c281-2ac733a8a502"
      },
      "source": [
        "history_epoch , train_accuracy = train_mnist_conv()"
      ],
      "execution_count": 7,
      "outputs": [
        {
          "output_type": "stream",
          "text": [
            "Downloading data from https://storage.googleapis.com/tensorflow/tf-keras-datasets/mnist.npz\n",
            "11493376/11490434 [==============================] - 0s 0us/step\n",
            "Epoch 1/20\n",
            "1875/1875 [==============================] - 11s 2ms/step - loss: 1.6344 - accuracy: 0.8844\n",
            "Epoch 2/20\n",
            "1875/1875 [==============================] - 4s 2ms/step - loss: 0.0747 - accuracy: 0.9783\n",
            "Epoch 3/20\n",
            "1875/1875 [==============================] - 4s 2ms/step - loss: 0.0519 - accuracy: 0.9838\n",
            "Epoch 4/20\n",
            "1875/1875 [==============================] - 5s 3ms/step - loss: 0.0371 - accuracy: 0.9885\n",
            "Epoch 5/20\n",
            "1875/1875 [==============================] - 4s 2ms/step - loss: 0.0296 - accuracy: 0.9913\n",
            "Epoch 6/20\n",
            "1875/1875 [==============================] - 5s 2ms/step - loss: 0.0263 - accuracy: 0.9919\n",
            "Epoch 7/20\n",
            "1875/1875 [==============================] - 5s 2ms/step - loss: 0.0188 - accuracy: 0.9942\n",
            "Epoch 8/20\n",
            "1875/1875 [==============================] - 5s 2ms/step - loss: 0.0162 - accuracy: 0.9948\n",
            "Epoch 9/20\n",
            "1875/1875 [==============================] - 4s 2ms/step - loss: 0.0140 - accuracy: 0.9957\n",
            "Epoch 10/20\n",
            "1875/1875 [==============================] - 5s 2ms/step - loss: 0.0159 - accuracy: 0.9957\n",
            "Epoch 11/20\n",
            "1875/1875 [==============================] - 5s 2ms/step - loss: 0.0144 - accuracy: 0.9962\n",
            "Epoch 12/20\n",
            "1875/1875 [==============================] - 4s 2ms/step - loss: 0.0124 - accuracy: 0.9967\n",
            "Epoch 13/20\n",
            "1875/1875 [==============================] - 5s 2ms/step - loss: 0.0142 - accuracy: 0.9964\n",
            "Epoch 14/20\n",
            "1875/1875 [==============================] - 4s 2ms/step - loss: 0.0161 - accuracy: 0.9961\n",
            "Epoch 15/20\n",
            "1875/1875 [==============================] - 5s 3ms/step - loss: 0.0087 - accuracy: 0.9976\n",
            "Epoch 16/20\n",
            "1875/1875 [==============================] - 4s 2ms/step - loss: 0.0122 - accuracy: 0.9967\n",
            "Epoch 17/20\n",
            "1875/1875 [==============================] - 5s 3ms/step - loss: 0.0158 - accuracy: 0.9968\n",
            "Epoch 18/20\n",
            "1875/1875 [==============================] - 4s 2ms/step - loss: 0.0072 - accuracy: 0.9983\n",
            "Epoch 19/20\n",
            "1875/1875 [==============================] - 5s 2ms/step - loss: 0.0126 - accuracy: 0.9975\n",
            "Epoch 20/20\n",
            "1875/1875 [==============================] - 5s 2ms/step - loss: 0.0115 - accuracy: 0.9975\n"
          ],
          "name": "stdout"
        }
      ]
    },
    {
      "cell_type": "code",
      "metadata": {
        "id": "g0SSQFu8HrmH",
        "colab": {
          "base_uri": "https://localhost:8080/"
        },
        "outputId": "88ce2a80-a737-4321-eb4e-c2d9f4befd6d"
      },
      "source": [
        "print( train_accuracy )"
      ],
      "execution_count": 9,
      "outputs": [
        {
          "output_type": "stream",
          "text": [
            "0.9970166683197021\n"
          ],
          "name": "stdout"
        }
      ]
    },
    {
      "cell_type": "code",
      "metadata": {
        "id": "c9iTOboeMvyP"
      },
      "source": [
        ""
      ],
      "execution_count": null,
      "outputs": []
    }
  ]
}