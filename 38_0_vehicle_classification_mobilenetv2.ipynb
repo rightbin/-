{
  "nbformat": 4,
  "nbformat_minor": 0,
  "metadata": {
    "accelerator": "GPU",
    "colab": {
      "name": "38_0_vehicle_classification_mobilenetv2.ipynb",
      "provenance": [],
      "collapsed_sections": [],
      "toc_visible": true,
      "machine_shape": "hm",
      "include_colab_link": true
    },
    "kernelspec": {
      "display_name": "Python 3",
      "language": "python",
      "name": "python3"
    },
    "language_info": {
      "codemirror_mode": {
        "name": "ipython",
        "version": 3
      },
      "file_extension": ".py",
      "mimetype": "text/x-python",
      "name": "python",
      "nbconvert_exporter": "python",
      "pygments_lexer": "ipython3",
      "version": "3.7.7"
    }
  },
  "cells": [
    {
      "cell_type": "markdown",
      "metadata": {
        "id": "view-in-github",
        "colab_type": "text"
      },
      "source": [
        "<a href=\"https://colab.research.google.com/github/rightbin/Deep-learning/blob/main/38_0_vehicle_classification_mobilenetv2.ipynb\" target=\"_parent\"><img src=\"https://colab.research.google.com/assets/colab-badge.svg\" alt=\"Open In Colab\"/></a>"
      ]
    },
    {
      "cell_type": "markdown",
      "metadata": {
        "id": "FTs4p-7w_h5A"
      },
      "source": [
        "# **The Vehicle Type Classification Project**\n",
        "\n"
      ]
    },
    {
      "cell_type": "markdown",
      "metadata": {
        "id": "GulSne0-q61L"
      },
      "source": [
        "# Summary\n",
        "\n",
        "\n",
        "- **Use Case:** Vehicle Type\n",
        "- **Algorithm:** MobileNetV2\n",
        "- **Number of training images:** 603\n",
        "- **Number of classes:** 7\n",
        "- **Batch Size:** 64\n",
        "- **Optimizer:** Adam \n",
        "- **Learning Rate:** 0.0001\n",
        "- **Loss Type:**CategoricalCrossentropy\n",
        "- **Transfer Learning:** Yes | Imagenet\n",
        "\n"
      ]
    },
    {
      "cell_type": "markdown",
      "metadata": {
        "id": "EOw4YADAAvGg"
      },
      "source": [
        " ## Labels\n",
        " \n",
        " 0: 'car-bus-alltypes',\n",
        "\n",
        " 1: 'car-sedan-alltypes',\n",
        " \n",
        " 2: 'car-suv-alltypes',\n",
        " \n",
        " 3: 'motocycle-bicycle-kids',\n",
        " \n",
        " 4: 'motocycle-bicycle-racing',\n",
        " \n",
        " 5: 'motocycle-motorbike-chopper',\n",
        " \n",
        " 6: 'motocycle-motorbike-sport'"
      ]
    },
    {
      "cell_type": "markdown",
      "metadata": {
        "id": "1BCXp3uGq7CX"
      },
      "source": [
        "## Import Library"
      ]
    },
    {
      "cell_type": "code",
      "metadata": {
        "id": "EW3iqcXRROSV"
      },
      "source": [
        "# import the necessary packages\n",
        "from tensorflow.keras.preprocessing.image import ImageDataGenerator\n",
        "from tensorflow.keras.layers import AveragePooling2D, GlobalAveragePooling2D, BatchNormalization\n",
        "#from tensorflow.keras.applications import ResNet50\n",
        "#from tensorflow.keras.applications import Xception\n",
        "from tensorflow.keras.applications import MobileNetV2\n",
        "from tensorflow.keras.layers import AveragePooling2D\n",
        "from tensorflow.keras.layers import Dropout\n",
        "from tensorflow.keras.layers import Flatten\n",
        "from tensorflow.keras.layers import Dense\n",
        "from tensorflow.keras.layers import Input\n",
        "from tensorflow.keras.models import Model\n",
        "from tensorflow.keras.optimizers import Adam\n",
        "from tensorflow.keras.optimizers import SGD\n",
        "from tensorflow.keras.utils import to_categorical\n",
        "from sklearn.preprocessing import LabelBinarizer\n",
        "from sklearn.model_selection import train_test_split\n",
        "from sklearn.metrics import classification_report\n",
        "from sklearn.metrics import confusion_matrix\n",
        "from imutils import paths\n",
        "import matplotlib.pyplot as plt\n",
        "import numpy as np\n",
        "import argparse\n",
        "import cv2\n",
        "import os\n",
        "import sys\n",
        "import tensorflow as tf\n",
        "import h5py\n",
        "import numpy as np\n",
        "import sys"
      ],
      "execution_count": 1,
      "outputs": []
    },
    {
      "cell_type": "code",
      "metadata": {
        "id": "YXw5D5GD8cH3",
        "colab": {
          "base_uri": "https://localhost:8080/"
        },
        "outputId": "d8aff47e-e93c-4513-c538-d47d1b61d7e0"
      },
      "source": [
        "print(tf.__version__)"
      ],
      "execution_count": null,
      "outputs": [
        {
          "output_type": "stream",
          "text": [
            "2.4.1\n"
          ],
          "name": "stdout"
        }
      ]
    },
    {
      "cell_type": "markdown",
      "metadata": {
        "id": "5afG8zRfAQOo"
      },
      "source": [
        "## 구글드라이브 마운트 하기"
      ]
    },
    {
      "cell_type": "code",
      "metadata": {
        "id": "bmqjaLybzrzo",
        "colab": {
          "base_uri": "https://localhost:8080/"
        },
        "outputId": "fb40b89a-160b-491b-87f1-3100accac69d"
      },
      "source": [
        "from google.colab import drive\n",
        "drive.mount('/content/drive')"
      ],
      "execution_count": 2,
      "outputs": [
        {
          "output_type": "stream",
          "text": [
            "Mounted at /content/drive\n"
          ],
          "name": "stdout"
        }
      ]
    },
    {
      "cell_type": "markdown",
      "metadata": {
        "id": "tHFG0W98yLzC"
      },
      "source": [
        "### 다음 데이터셋을 다운로드하여, 압축을 풀고, 구글 드라이브에 올려놓는다.\n",
        "\n",
        "https://drive.google.com/file/d/1oAW1QoG77-WLPkPa2tAM4Mnpt1cznnDl/view?usp=sharing\n"
      ]
    },
    {
      "cell_type": "code",
      "metadata": {
        "id": "mdHf4iuFCavo"
      },
      "source": [
        "import os\r\n",
        "os.chdir('/content/drive/MyDrive/Colab Notebooks/day19')"
      ],
      "execution_count": 3,
      "outputs": []
    },
    {
      "cell_type": "code",
      "metadata": {
        "id": "ARf9qY51Caka",
        "colab": {
          "base_uri": "https://localhost:8080/"
        },
        "outputId": "9796207c-8327-4ef6-9a47-a064004402fc"
      },
      "source": [
        "!unzip 38_실습파일.zip"
      ],
      "execution_count": 4,
      "outputs": [
        {
          "output_type": "stream",
          "text": [
            "Archive:  38_실습파일.zip\n",
            "   creating: test-images/\n",
            "  inflating: __MACOSX/._test-images  \n",
            "  inflating: test-images/bicycle.png  \n",
            "  inflating: __MACOSX/test-images/._bicycle.png  \n",
            "  inflating: test-images/bus.jpg     \n",
            "  inflating: __MACOSX/test-images/._bus.jpg  \n",
            "   creating: trained-models/\n",
            "  inflating: __MACOSX/._trained-models  \n",
            "   creating: trained-models/mobilenetv2/\n",
            "  inflating: __MACOSX/trained-models/._mobilenetv2  \n",
            "  inflating: trained-models/mobilenetv2/vehicle-classification-by-type-mobilenetv2-anis-1.h5  \n",
            "  inflating: __MACOSX/trained-models/mobilenetv2/._vehicle-classification-by-type-mobilenetv2-anis-1.h5  \n",
            "  inflating: trained-models/mobilenetv2/vehicle-classification-by-type-mobilenetv2-anis-1-2.h5  \n",
            "  inflating: __MACOSX/trained-models/mobilenetv2/._vehicle-classification-by-type-mobilenetv2-anis-1-2.h5  \n",
            "  inflating: trained-models/mobilenetv2/vehicle-classification-by-type-mobilenetv2-anis-2.h5  \n",
            "  inflating: __MACOSX/trained-models/mobilenetv2/._vehicle-classification-by-type-mobilenetv2-anis-2.h5  \n",
            "   creating: vehicle_datasets/\n",
            "  inflating: __MACOSX/._vehicle_datasets  \n",
            "  inflating: vehicle_datasets/vehicle-type-dataset-SIZE224.hdf5.csv  \n",
            "  inflating: __MACOSX/vehicle_datasets/._vehicle-type-dataset-SIZE224.hdf5.csv  \n",
            "  inflating: vehicle_datasets/vehicle-type-dataset-SIZE224.hdf5  \n",
            "  inflating: __MACOSX/vehicle_datasets/._vehicle-type-dataset-SIZE224.hdf5  \n",
            "  inflating: vehicle_datasets/vehicle-type-dataset-SIZE224-train-dev-test-v2.hdf5  \n",
            "  inflating: __MACOSX/vehicle_datasets/._vehicle-type-dataset-SIZE224-train-dev-test-v2.hdf5  \n"
          ],
          "name": "stdout"
        }
      ]
    },
    {
      "cell_type": "code",
      "metadata": {
        "id": "G7wU7mKKsSZV"
      },
      "source": [
        ""
      ],
      "execution_count": null,
      "outputs": []
    },
    {
      "cell_type": "code",
      "metadata": {
        "id": "WN1itCPRsSWV"
      },
      "source": [
        ""
      ],
      "execution_count": null,
      "outputs": []
    },
    {
      "cell_type": "code",
      "metadata": {
        "id": "FgIjFS-7sRwo"
      },
      "source": [
        ""
      ],
      "execution_count": null,
      "outputs": []
    },
    {
      "cell_type": "markdown",
      "metadata": {
        "id": "vEbHwn85CbS7"
      },
      "source": [
        "## 경로 셋팅"
      ]
    },
    {
      "cell_type": "code",
      "metadata": {
        "id": "UyxCJZAtaYUB"
      },
      "source": [
        "TYPE='type'\n",
        "model_type='mobilenetv2'\n",
        "user='block'\n",
        "iteration='1-2'\n",
        "\n",
        "first_time_training=True\n",
        "\n",
        "PROJECT_PATH= '/content/drive/MyDrive/Colab Notebooks/day19'\n",
        "\n",
        "HDF5_DATASET_PATH=PROJECT_PATH+'/vehicle_datasets/vehicle-type-dataset-SIZE224-train-dev-test-v2.hdf5'\n",
        "\n",
        "TARGET_CLASSIFICATION_MODEL=PROJECT_PATH+'/trained-models/'+model_type+'/'+'vehicle-classification-by-'+TYPE+'-'+model_type+'-'+user+'-'+iteration+'.h5'\n",
        "\n",
        "CHECKPOINT_PATH = PROJECT_PATH+'/checkpoints/'+model_type+'/'+'by-'+TYPE+'-'+model_type+'-'+user+'-'+iteration+'.h5'\n",
        "\n",
        "LOGFILE_PATH=PROJECT_PATH+'/log/'+model_type+'/'+model_type+'-by-'+TYPE+'-training-log'+user+'-'+iteration+'.csv'\n"
      ],
      "execution_count": 5,
      "outputs": []
    },
    {
      "cell_type": "markdown",
      "metadata": {
        "id": "YUAwt0wwuEgQ"
      },
      "source": [
        "어떤 에포크가 제일 좋은 것인지 찾아주는 코드(위에꺼)\r\n",
        "accuracy가 제일 높은 것을 찾아주는 것임. \r\n",
        "overfitting이 된 것을 배포하면 난리나는 거임. 지금 에포크가 전에꺼보다 좋다면 이걸 저장하는 거임. 그래서 그다음 에포크가 좋다면 그걸 저장 하는 식으로 하는 거임...(Check point만 확인하면 됨 그러면 어디서 제일 좋은 수치로 저장 되었는지를 알 수 있음.)\r\n"
      ]
    },
    {
      "cell_type": "code",
      "metadata": {
        "id": "pW3UM1dFTrDj",
        "colab": {
          "base_uri": "https://localhost:8080/"
        },
        "outputId": "a079aaba-1fe1-41d6-d64a-5c4d37dc5d89"
      },
      "source": [
        "print('PROJECT_PATH: ',PROJECT_PATH)\n",
        "print('HDF5_DATASET_PATH: ', HDF5_DATASET_PATH)\n",
        "print('TARGET_CLASSIFICATION_MODEL: ',TARGET_CLASSIFICATION_MODEL)\n",
        "print('CHECKPOINT_PATH: ',CHECKPOINT_PATH)\n",
        "print('LOGFILE_PATH: ',LOGFILE_PATH)"
      ],
      "execution_count": 6,
      "outputs": [
        {
          "output_type": "stream",
          "text": [
            "PROJECT_PATH:  /content/drive/MyDrive/Colab Notebooks/day19\n",
            "HDF5_DATASET_PATH:  /content/drive/MyDrive/Colab Notebooks/day19/vehicle_datasets/vehicle-type-dataset-SIZE224-train-dev-test-v2.hdf5\n",
            "TARGET_CLASSIFICATION_MODEL:  /content/drive/MyDrive/Colab Notebooks/day19/trained-models/mobilenetv2/vehicle-classification-by-type-mobilenetv2-block-1-2.h5\n",
            "CHECKPOINT_PATH:  /content/drive/MyDrive/Colab Notebooks/day19/checkpoints/mobilenetv2/by-type-mobilenetv2-block-1-2.h5\n",
            "LOGFILE_PATH:  /content/drive/MyDrive/Colab Notebooks/day19/log/mobilenetv2/mobilenetv2-by-type-training-logblock-1-2.csv\n"
          ],
          "name": "stdout"
        }
      ]
    },
    {
      "cell_type": "code",
      "metadata": {
        "id": "7C4gDYQskGLG"
      },
      "source": [
        "\n",
        "sys.path.append(PROJECT_PATH)\n"
      ],
      "execution_count": 7,
      "outputs": []
    },
    {
      "cell_type": "markdown",
      "metadata": {
        "id": "cuA-vehiW0Lf"
      },
      "source": [
        "# **Load the Dataset**"
      ]
    },
    {
      "cell_type": "code",
      "metadata": {
        "colab": {
          "base_uri": "https://localhost:8080/"
        },
        "id": "0LQXXNRHuvBA",
        "outputId": "e4f0e6ed-a577-42b3-98c0-25deffd7c71d"
      },
      "source": [
        "hf = h5py.File(HDF5_DATASET_PATH,'r')\r\n",
        "\r\n",
        "hf['trainY']\r\n",
        "np.array(hf['trainY']) #눈으로 보고 싶다면 이렇게 써주면 됨.\r\n"
      ],
      "execution_count": 11,
      "outputs": [
        {
          "output_type": "execute_result",
          "data": {
            "text/plain": [
              "array([[0, 0, 0, ..., 0, 1, 0],\n",
              "       [0, 0, 0, ..., 0, 1, 0],\n",
              "       [0, 0, 0, ..., 1, 0, 0],\n",
              "       ...,\n",
              "       [1, 0, 0, ..., 0, 0, 0],\n",
              "       [0, 1, 0, ..., 0, 0, 0],\n",
              "       [1, 0, 0, ..., 0, 0, 0]])"
            ]
          },
          "metadata": {
            "tags": []
          },
          "execution_count": 11
        }
      ]
    },
    {
      "cell_type": "code",
      "metadata": {
        "colab": {
          "base_uri": "https://localhost:8080/"
        },
        "id": "ZVAuqZ1fvSYm",
        "outputId": "86fdc3b7-0b4c-4236-c25a-4ba981b367eb"
      },
      "source": [
        "np.array(hf['trainY'][0,]) # 5번째의 1이 있기 때문에 위에 Label을 보면 모터사이클임을 알 수 있다."
      ],
      "execution_count": 12,
      "outputs": [
        {
          "output_type": "execute_result",
          "data": {
            "text/plain": [
              "array([0, 0, 0, 0, 0, 1, 0])"
            ]
          },
          "metadata": {
            "tags": []
          },
          "execution_count": 12
        }
      ]
    },
    {
      "cell_type": "code",
      "metadata": {
        "id": "yCOCvDQliI5v"
      },
      "source": [
        "def load_dataset_from_hdf5_file(hdf_file_path):\n",
        "  # 함수 만들기\n",
        "  hf = h5py.File(hdf_file_path,'r')\n",
        "\n",
        "  X_train = np.array(hf['trainX'])\n",
        "  y_train = np.array(hf['trainY'])\n",
        "  train_label = np.array(hf['trainLabels'])\n",
        "\n",
        "  X_test = np.array(hf['testX'])\n",
        "  y_test = np.array(hf['testY'])\n",
        "  test_label = np.array(hf['testLabels'])\n",
        "\n",
        "  X_val = np.array(hf['devX'])\n",
        "  y_val = np.array(hf['devY'])\n",
        "  val_label = np.array(hf['devLabels'])\n",
        "\n",
        "  return X_train,y_train,train_label,X_test,y_test,test_label,X_val,y_val,val_label"
      ],
      "execution_count": 13,
      "outputs": []
    },
    {
      "cell_type": "code",
      "metadata": {
        "id": "C9vcFQA2Dqbi"
      },
      "source": [
        "X_train,y_train,train_label,X_test,y_test,test_label,X_val,y_val,val_label=load_dataset_from_hdf5_file(HDF5_DATASET_PATH) #함수 호출하는 코드"
      ],
      "execution_count": 15,
      "outputs": []
    },
    {
      "cell_type": "code",
      "metadata": {
        "id": "iSCoPyAJC1wu"
      },
      "source": [
        "train_label"
      ],
      "execution_count": null,
      "outputs": []
    },
    {
      "cell_type": "code",
      "metadata": {
        "id": "rguVddIcC3AH",
        "colab": {
          "base_uri": "https://localhost:8080/"
        },
        "outputId": "c24a9b6a-620f-4a0d-eb1a-abba9155bc55"
      },
      "source": [
        "X_train.shape"
      ],
      "execution_count": 30,
      "outputs": [
        {
          "output_type": "execute_result",
          "data": {
            "text/plain": [
              "(603, 224, 224, 3)"
            ]
          },
          "metadata": {
            "tags": []
          },
          "execution_count": 30
        }
      ]
    },
    {
      "cell_type": "code",
      "metadata": {
        "id": "8OJur3pcC29r"
      },
      "source": [
        ""
      ],
      "execution_count": null,
      "outputs": []
    },
    {
      "cell_type": "code",
      "metadata": {
        "id": "NcQQiaIyC26D"
      },
      "source": [
        ""
      ],
      "execution_count": null,
      "outputs": []
    },
    {
      "cell_type": "code",
      "metadata": {
        "id": "CdS7DDZMC23l"
      },
      "source": [
        ""
      ],
      "execution_count": null,
      "outputs": []
    },
    {
      "cell_type": "code",
      "metadata": {
        "id": "_5gIvSsOC20k"
      },
      "source": [
        ""
      ],
      "execution_count": null,
      "outputs": []
    },
    {
      "cell_type": "code",
      "metadata": {
        "id": "IOYGekj-C2w9"
      },
      "source": [
        ""
      ],
      "execution_count": null,
      "outputs": []
    },
    {
      "cell_type": "code",
      "metadata": {
        "id": "Uh92ZjhHC2t8"
      },
      "source": [
        ""
      ],
      "execution_count": null,
      "outputs": []
    },
    {
      "cell_type": "markdown",
      "metadata": {
        "id": "hNVeLhVkW7BT"
      },
      "source": [
        "# 사진이미지 확인해 보기"
      ]
    },
    {
      "cell_type": "code",
      "metadata": {
        "id": "YIA55wubC5ki",
        "colab": {
          "base_uri": "https://localhost:8080/",
          "height": 287
        },
        "outputId": "53ff074a-1a05-44d6-a430-ec579353dd3e"
      },
      "source": [
        "plt.imshow(X_train[1])"
      ],
      "execution_count": 25,
      "outputs": [
        {
          "output_type": "execute_result",
          "data": {
            "text/plain": [
              "<matplotlib.image.AxesImage at 0x7f45d7f784d0>"
            ]
          },
          "metadata": {
            "tags": []
          },
          "execution_count": 25
        },
        {
          "output_type": "display_data",
          "data": {
            "image/png": "[encoded data removed]",
            "text/plain": [
              "<Figure size 432x288 with 1 Axes>"
            ]
          },
          "metadata": {
            "tags": [],
            "needs_background": "light"
          }
        }
      ]
    },
    {
      "cell_type": "code",
      "metadata": {
        "id": "UDpcSGY1C5hE",
        "colab": {
          "base_uri": "https://localhost:8080/"
        },
        "outputId": "9fdba636-16c2-4f72-fc27-20f3ec6774c6"
      },
      "source": [
        "X_train[0].min() #이미 정규화가 되어있다. 255로 이미 나눈 상태임...."
      ],
      "execution_count": 21,
      "outputs": [
        {
          "output_type": "execute_result",
          "data": {
            "text/plain": [
              "0.0"
            ]
          },
          "metadata": {
            "tags": []
          },
          "execution_count": 21
        }
      ]
    },
    {
      "cell_type": "code",
      "metadata": {
        "id": "tEann7vEC5eQ",
        "colab": {
          "base_uri": "https://localhost:8080/"
        },
        "outputId": "c8cd19b3-5963-4559-d229-95c874fbffe0"
      },
      "source": [
        "y_train[1]"
      ],
      "execution_count": 27,
      "outputs": [
        {
          "output_type": "execute_result",
          "data": {
            "text/plain": [
              "array([0, 0, 0, 0, 0, 1, 0])"
            ]
          },
          "metadata": {
            "tags": []
          },
          "execution_count": 27
        }
      ]
    },
    {
      "cell_type": "code",
      "metadata": {
        "colab": {
          "base_uri": "https://localhost:8080/"
        },
        "id": "bhvMcaZVzDl_",
        "outputId": "dae35b8d-440b-4a96-e4ee-4e5327bfd96b"
      },
      "source": [
        "y_train[1].argmax()"
      ],
      "execution_count": 26,
      "outputs": [
        {
          "output_type": "execute_result",
          "data": {
            "text/plain": [
              "5"
            ]
          },
          "metadata": {
            "tags": []
          },
          "execution_count": 26
        }
      ]
    },
    {
      "cell_type": "code",
      "metadata": {
        "id": "yrmZgqvHC5bQ",
        "colab": {
          "base_uri": "https://localhost:8080/"
        },
        "outputId": "92b1bc8b-6956-4729-d3b7-7a5f6d583dd7"
      },
      "source": [
        "train_label[1]"
      ],
      "execution_count": 28,
      "outputs": [
        {
          "output_type": "execute_result",
          "data": {
            "text/plain": [
              "b'motocycle-motorbike-chopper'"
            ]
          },
          "metadata": {
            "tags": []
          },
          "execution_count": 28
        }
      ]
    },
    {
      "cell_type": "code",
      "metadata": {
        "id": "9DbZrzIAC5YL"
      },
      "source": [
        ""
      ],
      "execution_count": null,
      "outputs": []
    },
    {
      "cell_type": "code",
      "metadata": {
        "id": "30V5zI2aC5T4"
      },
      "source": [
        ""
      ],
      "execution_count": null,
      "outputs": []
    },
    {
      "cell_type": "code",
      "metadata": {
        "id": "utUCQapGC5QD"
      },
      "source": [
        ""
      ],
      "execution_count": null,
      "outputs": []
    },
    {
      "cell_type": "code",
      "metadata": {
        "id": "jb3i_IBmC5Mr"
      },
      "source": [
        ""
      ],
      "execution_count": null,
      "outputs": []
    },
    {
      "cell_type": "markdown",
      "metadata": {
        "id": "aMOODjGBmjdS"
      },
      "source": [
        "# 모델링하기 : 트랜스퍼 러닝 적용\n",
        "\n",
        "# Data Augmentation"
      ]
    },
    {
      "cell_type": "code",
      "metadata": {
        "id": "s_0yDIb8DEHM"
      },
      "source": [
        "trainGen = ImageDataGenerator(rotation_range=20,\r\n",
        "                              horizontal_flip = True)"
      ],
      "execution_count": 48,
      "outputs": []
    },
    {
      "cell_type": "code",
      "metadata": {
        "id": "scRA83ixDEA2"
      },
      "source": [
        "baseModel = MobileNetV2( weights='imagenet',include_top=False ,\r\n",
        "                        input_shape = (224,224,3))"
      ],
      "execution_count": 51,
      "outputs": []
    },
    {
      "cell_type": "code",
      "metadata": {
        "id": "TQLJW0nFDD-A"
      },
      "source": [
        "baseModel.summary()"
      ],
      "execution_count": null,
      "outputs": []
    },
    {
      "cell_type": "code",
      "metadata": {
        "id": "oBk371fEDD7q"
      },
      "source": [
        "headModel = baseModel.output"
      ],
      "execution_count": 52,
      "outputs": []
    },
    {
      "cell_type": "code",
      "metadata": {
        "id": "_Z3phVTmDD4Q"
      },
      "source": [
        "headModel = AveragePooling2D((4,4))(headModel)\r\n",
        "headModel = Flatten()(headModel)\r\n",
        "headModel = Dense(128, activation='relu')(headModel)\r\n",
        "headModel = BatchNormalization()(headModel) #overfitting을 막는 거임.\r\n",
        "headModel = Dense(64,activation='relu')(headModel)\r\n",
        "headModel = Dropout(0.5)(headModel)\r\n",
        "headModel = BatchNormalization()(headModel)\r\n",
        "headModel = Dense(7,activation='softmax')(headModel)\r\n"
      ],
      "execution_count": 53,
      "outputs": []
    },
    {
      "cell_type": "code",
      "metadata": {
        "id": "u80VMCnWDDyA"
      },
      "source": [
        "baseModel.trainable = False"
      ],
      "execution_count": 54,
      "outputs": []
    },
    {
      "cell_type": "code",
      "metadata": {
        "id": "Q5oWf6sLDD1P"
      },
      "source": [
        "model = Model(inputs = baseModel.input, outputs = headModel)"
      ],
      "execution_count": 55,
      "outputs": []
    },
    {
      "cell_type": "code",
      "metadata": {
        "id": "3TGsuRBZ47dr"
      },
      "source": [
        ""
      ],
      "execution_count": null,
      "outputs": []
    },
    {
      "cell_type": "markdown",
      "metadata": {
        "id": "Jlc2mz-3DJyY"
      },
      "source": [
        "###  콜백 만들기 : 가장 좋은 모델을 자동 저장하도록 함. 로그도 저장하도록 함."
      ]
    },
    {
      "cell_type": "code",
      "metadata": {
        "id": "qQttyBe5DV4k"
      },
      "source": [
        "from tensorflow.keras.callbacks import ModelCheckpoint\r\n",
        "from tensorflow.keras.callbacks import CSVLogger\r\n",
        "import pickle "
      ],
      "execution_count": 40,
      "outputs": []
    },
    {
      "cell_type": "code",
      "metadata": {
        "id": "hJ0BLjdD5P1l"
      },
      "source": [
        "cp = ModelCheckpoint(filepath=CHECKPOINT_PATH, monitor='val_accuracy',\r\n",
        "                     save_best_only = True, verbose= 1)"
      ],
      "execution_count": 56,
      "outputs": []
    },
    {
      "cell_type": "code",
      "metadata": {
        "id": "rp9walpNDVvS"
      },
      "source": [
        "csv_logger = CSVLogger(filename=LOGFILE_PATH,append = True)"
      ],
      "execution_count": 57,
      "outputs": []
    },
    {
      "cell_type": "code",
      "metadata": {
        "id": "Kl0DG1gBDVq6"
      },
      "source": [
        ""
      ],
      "execution_count": null,
      "outputs": []
    },
    {
      "cell_type": "markdown",
      "metadata": {
        "id": "85JqdN5lDWbq"
      },
      "source": [
        "## 컴파일과 학습 : 에포크는 50"
      ]
    },
    {
      "cell_type": "code",
      "metadata": {
        "id": "UDW_iGy2DWJr"
      },
      "source": [
        "model.compile(optimizer=Adam(lr=0.0001),loss='categorical_crossentropy',metrics='accuracy')"
      ],
      "execution_count": 58,
      "outputs": []
    },
    {
      "cell_type": "code",
      "metadata": {
        "id": "I3hIC6NRDbyd",
        "colab": {
          "base_uri": "https://localhost:8080/",
          "height": 35
        },
        "outputId": "f2693bcd-85ff-46d2-f2eb-15d849b29418"
      },
      "source": [
        "CHECKPOINT_PATH"
      ],
      "execution_count": 59,
      "outputs": [
        {
          "output_type": "execute_result",
          "data": {
            "application/vnd.google.colaboratory.intrinsic+json": {
              "type": "string"
            },
            "text/plain": [
              "'/content/drive/MyDrive/Colab Notebooks/day19/checkpoints/mobilenetv2/by-type-mobilenetv2-block-1-2.h5'"
            ]
          },
          "metadata": {
            "tags": []
          },
          "execution_count": 59
        }
      ]
    },
    {
      "cell_type": "code",
      "metadata": {
        "id": "zrTNc7wbDbu9",
        "colab": {
          "base_uri": "https://localhost:8080/",
          "height": 35
        },
        "outputId": "b63e2358-a8c7-4b37-ba73-d8d1dc7128ff"
      },
      "source": [
        "LOGFILE_PATH"
      ],
      "execution_count": 60,
      "outputs": [
        {
          "output_type": "execute_result",
          "data": {
            "application/vnd.google.colaboratory.intrinsic+json": {
              "type": "string"
            },
            "text/plain": [
              "'/content/drive/MyDrive/Colab Notebooks/day19/log/mobilenetv2/mobilenetv2-by-type-training-logblock-1-2.csv'"
            ]
          },
          "metadata": {
            "tags": []
          },
          "execution_count": 60
        }
      ]
    },
    {
      "cell_type": "code",
      "metadata": {
        "id": "pWOcYNlADbrQ"
      },
      "source": [
        "if not os.path.exists(PROJECT_PATH+'/checkpoints/'+model_type+'/'):\r\n",
        "  os.makedirs(PROJECT_PATH+'/checkpoints/'+model_type+'/')\r\n",
        "\r\n",
        "if not os.path.exists(PROJECT_PATH+'/log/'+model_type+'/'):\r\n",
        "  os.makedirs(PROJECT_PATH+'/log/'+model_type+'/')"
      ],
      "execution_count": 61,
      "outputs": []
    },
    {
      "cell_type": "code",
      "metadata": {
        "id": "D5mEs8zODboJ"
      },
      "source": [
        "history = model.fit(trainGen.flow(X_train,y_train,batch_size=64),\r\n",
        "                    #만 개의 데이터를5000개씩 학습하면, steps_per_epoch는 2가 된다. \r\n",
        "                    #만 개의 데이터를 한 개씩 학습하면, steps_per_epoch는 10000이 된다. \r\n",
        "                    steps_per_epoch = len(X_train) // 64 ,\r\n",
        "                    validation_data = (X_val, y_val),\r\n",
        "                    validation_steps = len(X_val) // 64,\r\n",
        "                    callbacks = [cp , csv_logger],\r\n",
        "                    epochs = 50\r\n",
        "                    )"
      ],
      "execution_count": null,
      "outputs": []
    },
    {
      "cell_type": "code",
      "metadata": {
        "id": "wXiGAspy9TZo"
      },
      "source": [
        ""
      ],
      "execution_count": null,
      "outputs": []
    },
    {
      "cell_type": "code",
      "metadata": {
        "id": "m3YRflWC9TW3"
      },
      "source": [
        ""
      ],
      "execution_count": null,
      "outputs": []
    },
    {
      "cell_type": "code",
      "metadata": {
        "id": "rYjqNSos9TUa"
      },
      "source": [
        ""
      ],
      "execution_count": null,
      "outputs": []
    },
    {
      "cell_type": "code",
      "metadata": {
        "id": "sg6pOp_J9TRn"
      },
      "source": [
        ""
      ],
      "execution_count": null,
      "outputs": []
    },
    {
      "cell_type": "markdown",
      "metadata": {
        "id": "P3TZWy8uek85"
      },
      "source": [
        "# 트레이닝 및 밸리데이션의 정확도와 로스를 차트로 보기"
      ]
    },
    {
      "cell_type": "code",
      "metadata": {
        "id": "VcFZU70xDkqv"
      },
      "source": [
        "def learning_curve(history, epoch):\r\n",
        "  # 정확도 차트\r\n",
        "  plt.figure(figsize=(15,20))\r\n",
        "  epoch_range = np.arange(1, epoch+1)\r\n",
        "\r\n",
        "  plt.subplot(2, 1, 1)\r\n",
        "\r\n",
        "  plt.plot(epoch_range, history.history['accuracy'])\r\n",
        "  plt.plot(epoch_range, history.history['val_accuracy'])\r\n",
        "  plt.title('Model Accuracy')\r\n",
        "  plt.xlabel('Epoch')\r\n",
        "  plt.ylabel('Accruacy')\r\n",
        "  plt.legend(['Train, Val'])\r\n",
        "  \r\n",
        "  plt.show()\r\n",
        "  # loss 차트\r\n",
        "\r\n",
        "  plt.subplot(2,1,1)\r\n",
        "\r\n",
        "  plt.plot(epoch_range, history.history['loss'])\r\n",
        "  plt.plot(epoch_range, history.history['val_loss'])\r\n",
        "  plt.title('Model Loss')\r\n",
        "  plt.xlabel('Epoch')\r\n",
        "  plt.ylabel('Loss')\r\n",
        "  plt.legend(['Train, Val'])\r\n",
        "\r\n",
        "  plt.show()"
      ],
      "execution_count": 103,
      "outputs": []
    },
    {
      "cell_type": "code",
      "metadata": {
        "id": "sES0vifvDkoE",
        "colab": {
          "base_uri": "https://localhost:8080/",
          "height": 682
        },
        "outputId": "34c3889f-2349-460d-c805-622c925d38e5"
      },
      "source": [
        "learning_curve(history, 50)"
      ],
      "execution_count": 65,
      "outputs": [
        {
          "output_type": "display_data",
          "data": {
            "image/png": "[encoded data removed]",
            "text/plain": [
              "<Figure size 720x432 with 1 Axes>"
            ]
          },
          "metadata": {
            "tags": [],
            "needs_background": "light"
          }
        },
        {
          "output_type": "display_data",
          "data": {
            "image/png": "[encoded data removed]",
            "text/plain": [
              "<Figure size 432x288 with 1 Axes>"
            ]
          },
          "metadata": {
            "tags": [],
            "needs_background": "light"
          }
        }
      ]
    },
    {
      "cell_type": "code",
      "metadata": {
        "id": "N5x5mxw7DkkT",
        "colab": {
          "base_uri": "https://localhost:8080/"
        },
        "outputId": "a682d338-337a-423a-cb4e-50a8020b778c"
      },
      "source": [
        "model.evaluate(X_test,y_test)"
      ],
      "execution_count": 66,
      "outputs": [
        {
          "output_type": "stream",
          "text": [
            "3/3 [==============================] - 1s 66ms/step - loss: 0.2512 - accuracy: 0.9605\n"
          ],
          "name": "stdout"
        },
        {
          "output_type": "execute_result",
          "data": {
            "text/plain": [
              "[0.25122520327568054, 0.9605262875556946]"
            ]
          },
          "metadata": {
            "tags": []
          },
          "execution_count": 66
        }
      ]
    },
    {
      "cell_type": "code",
      "metadata": {
        "id": "-gdqTKxQDkhW"
      },
      "source": [
        ""
      ],
      "execution_count": null,
      "outputs": []
    },
    {
      "cell_type": "code",
      "metadata": {
        "id": "kljhfizN53xy"
      },
      "source": [
        ""
      ],
      "execution_count": null,
      "outputs": []
    },
    {
      "cell_type": "markdown",
      "metadata": {
        "id": "FyKM0fyL-HFf"
      },
      "source": [
        "# 모델 평가"
      ]
    },
    {
      "cell_type": "code",
      "metadata": {
        "id": "TxZRYNVtDvcW"
      },
      "source": [
        "y_pred = model.predict(X_test)"
      ],
      "execution_count": 69,
      "outputs": []
    },
    {
      "cell_type": "code",
      "metadata": {
        "colab": {
          "base_uri": "https://localhost:8080/"
        },
        "id": "UkWMF96EGlu8",
        "outputId": "99b4b97c-080d-4e1a-e822-6e6300ce4fb3"
      },
      "source": [
        "y_pred.argmax(axis=1)"
      ],
      "execution_count": 71,
      "outputs": [
        {
          "output_type": "execute_result",
          "data": {
            "text/plain": [
              "array([0, 2, 0, 1, 6, 1, 4, 4, 3, 4, 3, 1, 2, 4, 0, 0, 0, 6, 3, 2, 6, 5,\n",
              "       6, 3, 4, 5, 3, 0, 3, 2, 6, 0, 0, 3, 0, 5, 6, 4, 3, 2, 1, 1, 1, 2,\n",
              "       6, 0, 3, 1, 3, 3, 2, 3, 4, 0, 6, 5, 5, 5, 2, 1, 3, 5, 5, 1, 0, 5,\n",
              "       1, 0, 1, 3, 1, 4, 4, 6, 2, 6])"
            ]
          },
          "metadata": {
            "tags": []
          },
          "execution_count": 71
        }
      ]
    },
    {
      "cell_type": "code",
      "metadata": {
        "id": "MENW3uRmGp0J"
      },
      "source": [
        "y_pred = y_pred.argmax(axis=1)"
      ],
      "execution_count": 72,
      "outputs": []
    },
    {
      "cell_type": "code",
      "metadata": {
        "colab": {
          "base_uri": "https://localhost:8080/"
        },
        "id": "33frsve-Gs6C",
        "outputId": "1a9c3ab1-fc63-4a3d-f349-c2a1cf67cf84"
      },
      "source": [
        "y_pred"
      ],
      "execution_count": 73,
      "outputs": [
        {
          "output_type": "execute_result",
          "data": {
            "text/plain": [
              "array([0, 2, 0, 1, 6, 1, 4, 4, 3, 4, 3, 1, 2, 4, 0, 0, 0, 6, 3, 2, 6, 5,\n",
              "       6, 3, 4, 5, 3, 0, 3, 2, 6, 0, 0, 3, 0, 5, 6, 4, 3, 2, 1, 1, 1, 2,\n",
              "       6, 0, 3, 1, 3, 3, 2, 3, 4, 0, 6, 5, 5, 5, 2, 1, 3, 5, 5, 1, 0, 5,\n",
              "       1, 0, 1, 3, 1, 4, 4, 6, 2, 6])"
            ]
          },
          "metadata": {
            "tags": []
          },
          "execution_count": 73
        }
      ]
    },
    {
      "cell_type": "code",
      "metadata": {
        "colab": {
          "base_uri": "https://localhost:8080/"
        },
        "id": "SCZz7COBGzgT",
        "outputId": "f2ee77bd-153a-4220-ac94-d594bc44dc2a"
      },
      "source": [
        "y_test.argmax(axis=1)"
      ],
      "execution_count": 74,
      "outputs": [
        {
          "output_type": "execute_result",
          "data": {
            "text/plain": [
              "array([0, 1, 0, 1, 6, 1, 4, 4, 3, 4, 3, 1, 2, 4, 0, 0, 0, 6, 3, 2, 6, 5,\n",
              "       6, 3, 4, 5, 3, 0, 3, 2, 6, 0, 0, 3, 0, 5, 6, 4, 3, 2, 2, 1, 1, 2,\n",
              "       6, 0, 4, 1, 3, 3, 2, 3, 4, 0, 6, 5, 5, 5, 2, 1, 3, 5, 5, 1, 0, 5,\n",
              "       1, 0, 1, 3, 1, 4, 4, 6, 2, 6])"
            ]
          },
          "metadata": {
            "tags": []
          },
          "execution_count": 74
        }
      ]
    },
    {
      "cell_type": "code",
      "metadata": {
        "id": "Qk4ZNsPeGzd5"
      },
      "source": [
        "y_test = y_test.argmax(axis=1)"
      ],
      "execution_count": 75,
      "outputs": []
    },
    {
      "cell_type": "code",
      "metadata": {
        "colab": {
          "base_uri": "https://localhost:8080/"
        },
        "id": "AsBY0F9wGzbQ",
        "outputId": "3870db07-e5d2-4b63-b3f1-262fd86f1af1"
      },
      "source": [
        "y_test"
      ],
      "execution_count": 76,
      "outputs": [
        {
          "output_type": "execute_result",
          "data": {
            "text/plain": [
              "array([0, 1, 0, 1, 6, 1, 4, 4, 3, 4, 3, 1, 2, 4, 0, 0, 0, 6, 3, 2, 6, 5,\n",
              "       6, 3, 4, 5, 3, 0, 3, 2, 6, 0, 0, 3, 0, 5, 6, 4, 3, 2, 2, 1, 1, 2,\n",
              "       6, 0, 4, 1, 3, 3, 2, 3, 4, 0, 6, 5, 5, 5, 2, 1, 3, 5, 5, 1, 0, 5,\n",
              "       1, 0, 1, 3, 1, 4, 4, 6, 2, 6])"
            ]
          },
          "metadata": {
            "tags": []
          },
          "execution_count": 76
        }
      ]
    },
    {
      "cell_type": "code",
      "metadata": {
        "id": "lIKH0ywP5mUf"
      },
      "source": [
        "from sklearn.metrics import confusion_matrix"
      ],
      "execution_count": 67,
      "outputs": []
    },
    {
      "cell_type": "code",
      "metadata": {
        "id": "cKDk6aD55mUg"
      },
      "source": [
        "cm = confusion_matrix(y_test,y_pred)"
      ],
      "execution_count": 77,
      "outputs": []
    },
    {
      "cell_type": "code",
      "metadata": {
        "id": "Gr1ShFk7DvZe"
      },
      "source": [
        "import seaborn as sns"
      ],
      "execution_count": 78,
      "outputs": []
    },
    {
      "cell_type": "code",
      "metadata": {
        "id": "GfJ5zfTVDvWb",
        "colab": {
          "base_uri": "https://localhost:8080/",
          "height": 592
        },
        "outputId": "255d7146-2448-4f83-95f3-a48c04afd5f1"
      },
      "source": [
        "plt.figure(figsize=(10,10))\r\n",
        "sns.heatmap(cm,annot=True,fmt='.0f',cmap='RdPu')\r\n",
        "plt.show()"
      ],
      "execution_count": 80,
      "outputs": [
        {
          "output_type": "display_data",
          "data": {
            "image/png": "[encoded data removed]",
            "text/plain": [
              "<Figure size 720x720 with 2 Axes>"
            ]
          },
          "metadata": {
            "tags": [],
            "needs_background": "light"
          }
        }
      ]
    },
    {
      "cell_type": "code",
      "metadata": {
        "id": "OKXAHgAuDvTf"
      },
      "source": [
        ""
      ],
      "execution_count": null,
      "outputs": []
    },
    {
      "cell_type": "markdown",
      "metadata": {
        "id": "1q93eMtTIWJo"
      },
      "source": [
        "Fine 튜닝하기\r\n"
      ]
    },
    {
      "cell_type": "code",
      "metadata": {
        "id": "cMpJ9aXRDvQf"
      },
      "source": [
        "baseModel.summary()"
      ],
      "execution_count": null,
      "outputs": []
    },
    {
      "cell_type": "code",
      "metadata": {
        "id": "NPZqL2fzDvNl",
        "colab": {
          "base_uri": "https://localhost:8080/"
        },
        "outputId": "6d8b3534-3cbf-4724-9549-aa269b8c40e0"
      },
      "source": [
        "len(baseModel.layers)"
      ],
      "execution_count": 82,
      "outputs": [
        {
          "output_type": "execute_result",
          "data": {
            "text/plain": [
              "154"
            ]
          },
          "metadata": {
            "tags": []
          },
          "execution_count": 82
        }
      ]
    },
    {
      "cell_type": "code",
      "metadata": {
        "colab": {
          "base_uri": "https://localhost:8080/"
        },
        "id": "9CHuThYFJySc",
        "outputId": "cd4789f4-c1f1-47ba-b1c7-78f599ed3254"
      },
      "source": [
        "len(model.layers) - len(baseModel.layers)"
      ],
      "execution_count": 84,
      "outputs": [
        {
          "output_type": "execute_result",
          "data": {
            "text/plain": [
              "8"
            ]
          },
          "metadata": {
            "tags": []
          },
          "execution_count": 84
        }
      ]
    },
    {
      "cell_type": "code",
      "metadata": {
        "id": "vpvwXqt4DvKh"
      },
      "source": [
        "start_layer = 120"
      ],
      "execution_count": 85,
      "outputs": []
    },
    {
      "cell_type": "code",
      "metadata": {
        "id": "MqvQQjX0KPmw"
      },
      "source": [
        "baseModel.trainable = True"
      ],
      "execution_count": 86,
      "outputs": []
    },
    {
      "cell_type": "code",
      "metadata": {
        "id": "VtiX_pL1DvHW"
      },
      "source": [
        "for layer in baseModel.layers[ 0  : start_layer  ]:\r\n",
        "  layer.trainable = False"
      ],
      "execution_count": 87,
      "outputs": []
    },
    {
      "cell_type": "code",
      "metadata": {
        "id": "ITb1ljdb-GYr"
      },
      "source": [
        "model.compile(optimizer=Adam(lr=0.0001),\r\n",
        "              loss = 'categorical_crossentropy', \r\n",
        "              metrics = ['accuracy'])\r\n",
        "\r\n"
      ],
      "execution_count": 88,
      "outputs": []
    },
    {
      "cell_type": "code",
      "metadata": {
        "id": "ucU2i18ILpJZ"
      },
      "source": [
        "history = model.fit(trainGen.flow(X_train,y_train,batch_size=64),\r\n",
        "                    #만 개의 데이터를5000개씩 학습하면, steps_per_epoch는 2가 된다. \r\n",
        "                    #만 개의 데이터를 한 개씩 학습하면, steps_per_epoch는 10000이 된다. \r\n",
        "                    steps_per_epoch = len(X_train) // 64 ,\r\n",
        "                    validation_data = (X_val, y_val),\r\n",
        "                    validation_steps = len(X_val) // 64,\r\n",
        "                    callbacks = [cp , csv_logger],\r\n",
        "                    epochs = 50\r\n",
        "                    )"
      ],
      "execution_count": null,
      "outputs": []
    },
    {
      "cell_type": "code",
      "metadata": {
        "colab": {
          "base_uri": "https://localhost:8080/",
          "height": 732
        },
        "id": "NfMz_XkqLqdm",
        "outputId": "3970fbb1-ac7d-420e-f01c-ff4e266862c7"
      },
      "source": [
        "learning_curve(history, 50)"
      ],
      "execution_count": 104,
      "outputs": [
        {
          "output_type": "display_data",
          "data": {
            "image/png": "[encoded data removed]",
            "text/plain": [
              "<Figure size 1080x1440 with 1 Axes>"
            ]
          },
          "metadata": {
            "tags": [],
            "needs_background": "light"
          }
        },
        {
          "output_type": "display_data",
          "data": {
            "image/png": "[encoded data removed]",
            "text/plain": [
              "<Figure size 432x288 with 1 Axes>"
            ]
          },
          "metadata": {
            "tags": [],
            "needs_background": "light"
          }
        }
      ]
    },
    {
      "cell_type": "code",
      "metadata": {
        "id": "sXvU663hNleS"
      },
      "source": [
        "y_pred = model.predict(X_test)"
      ],
      "execution_count": 91,
      "outputs": []
    },
    {
      "cell_type": "code",
      "metadata": {
        "id": "iUrbtKUUNqob"
      },
      "source": [
        "y_pred = y_pred.argmax(axis=1)"
      ],
      "execution_count": 95,
      "outputs": []
    },
    {
      "cell_type": "code",
      "metadata": {
        "colab": {
          "base_uri": "https://localhost:8080/"
        },
        "id": "u2Z4fpAVNwkN",
        "outputId": "8c3a9ccb-bfa3-44b7-ae50-99ffc255bb04"
      },
      "source": [
        "y_test"
      ],
      "execution_count": 96,
      "outputs": [
        {
          "output_type": "execute_result",
          "data": {
            "text/plain": [
              "array([0, 1, 0, 1, 6, 1, 4, 4, 3, 4, 3, 1, 2, 4, 0, 0, 0, 6, 3, 2, 6, 5,\n",
              "       6, 3, 4, 5, 3, 0, 3, 2, 6, 0, 0, 3, 0, 5, 6, 4, 3, 2, 2, 1, 1, 2,\n",
              "       6, 0, 4, 1, 3, 3, 2, 3, 4, 0, 6, 5, 5, 5, 2, 1, 3, 5, 5, 1, 0, 5,\n",
              "       1, 0, 1, 3, 1, 4, 4, 6, 2, 6])"
            ]
          },
          "metadata": {
            "tags": []
          },
          "execution_count": 96
        }
      ]
    },
    {
      "cell_type": "code",
      "metadata": {
        "id": "jIVCvdRfNwiz"
      },
      "source": [
        "cm = confusion_matrix(y_test,y_pred)"
      ],
      "execution_count": 97,
      "outputs": []
    },
    {
      "cell_type": "code",
      "metadata": {
        "colab": {
          "base_uri": "https://localhost:8080/",
          "height": 592
        },
        "id": "lgq_2u54NwfM",
        "outputId": "12acbea7-576d-4857-b266-7ccceab2b80d"
      },
      "source": [
        "plt.figure(figsize=(10,10))\r\n",
        "sns.heatmap(cm,annot=True,fmt='.0f',cmap='RdPu')\r\n",
        "plt.show()"
      ],
      "execution_count": 98,
      "outputs": [
        {
          "output_type": "display_data",
          "data": {
            "image/png": "[encoded data removed]",
            "text/plain": [
              "<Figure size 720x720 with 2 Axes>"
            ]
          },
          "metadata": {
            "tags": [],
            "needs_background": "light"
          }
        }
      ]
    },
    {
      "cell_type": "code",
      "metadata": {
        "id": "NqL5_tanNwch"
      },
      "source": [
        ""
      ],
      "execution_count": null,
      "outputs": []
    },
    {
      "cell_type": "code",
      "metadata": {
        "id": "NdvVjHWOPdHf"
      },
      "source": [
        ""
      ],
      "execution_count": null,
      "outputs": []
    },
    {
      "cell_type": "code",
      "metadata": {
        "id": "vZGALcaxPSAX"
      },
      "source": [
        ""
      ],
      "execution_count": null,
      "outputs": []
    },
    {
      "cell_type": "code",
      "metadata": {
        "id": "qcwHXRJmPR-E"
      },
      "source": [
        ""
      ],
      "execution_count": null,
      "outputs": []
    },
    {
      "cell_type": "code",
      "metadata": {
        "id": "Z_9N02kQPR7t"
      },
      "source": [
        ""
      ],
      "execution_count": null,
      "outputs": []
    },
    {
      "cell_type": "code",
      "metadata": {
        "id": "eWImTtyePR5Q"
      },
      "source": [
        ""
      ],
      "execution_count": null,
      "outputs": []
    },
    {
      "cell_type": "code",
      "metadata": {
        "id": "50GS-U7jPR24"
      },
      "source": [
        ""
      ],
      "execution_count": null,
      "outputs": []
    },
    {
      "cell_type": "code",
      "metadata": {
        "id": "sjhQrkK7NwaK"
      },
      "source": [
        ""
      ],
      "execution_count": null,
      "outputs": []
    },
    {
      "cell_type": "code",
      "metadata": {
        "id": "5hDZ3-gfNwXd"
      },
      "source": [
        ""
      ],
      "execution_count": null,
      "outputs": []
    }
  ]
}